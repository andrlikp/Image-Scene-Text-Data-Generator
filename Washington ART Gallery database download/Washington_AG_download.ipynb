{
 "cells": [
  {
   "cell_type": "code",
   "execution_count": 2,
   "id": "3e2df3a8-d183-4378-ba50-b812b0ba5086",
   "metadata": {},
   "outputs": [],
   "source": [
    "import requests\n",
    "\n",
    "image_url = \"http://site.meishij.net/r/58/25/3568808/a3568808_142682562777944.jpg\"\n",
    "\n",
    "img_data = requests.get(image_url).content\n",
    "with open('image_name.jpg', 'wb') as handler:\n",
    "    handler.write(img_data)\n",
    "\n"
   ]
  },
  {
   "cell_type": "code",
   "execution_count": 3,
   "id": "2f8c8004-d21e-478c-9656-7d962acc1d31",
   "metadata": {},
   "outputs": [
    {
     "name": "stdout",
     "output_type": "stream",
     "text": [
      "saved   2000\n",
      "all saved\n"
     ]
    }
   ],
   "source": [
    "#stažení obrázků z Washington art gallery\n",
    "\n",
    "import csv\n",
    "import requests\n",
    "from IPython.display import clear_output\n",
    "\n",
    "i=1\n",
    "with open('published_images.csv', newline='') as csvfile:\n",
    "    spamreader = csv.reader(csvfile, delimiter='\"', quotechar='\\n')\n",
    "    \n",
    "    for row in spamreader:\n",
    "        if i>2000: break\n",
    "        if len(row)<3: continue\n",
    "        #print(row[0].split(',')[0])\n",
    "        if 'https://api.nga.gov/iiif/' in row[1]:\n",
    "            image_url = row[1].replace(\"200\", \"10000\")\n",
    "            image_name = row[0].split(',')[0]\n",
    "            \n",
    "\n",
    "            img_data = requests.get(image_url).content\n",
    "            with open('downloaded/'+image_name+'.jpg', 'wb') as handler:\n",
    "                handler.write(img_data)\n",
    "            clear_output()\n",
    "            print('saved', \" \", i)\n",
    "            i+=1\n",
    "print('all saved')"
   ]
  }
 ],
 "metadata": {
  "kernelspec": {
   "display_name": "Python 3 (ipykernel)",
   "language": "python",
   "name": "python3"
  },
  "language_info": {
   "codemirror_mode": {
    "name": "ipython",
    "version": 3
   },
   "file_extension": ".py",
   "mimetype": "text/x-python",
   "name": "python",
   "nbconvert_exporter": "python",
   "pygments_lexer": "ipython3",
   "version": "3.7.11"
  }
 },
 "nbformat": 4,
 "nbformat_minor": 5
}
