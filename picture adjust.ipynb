{
 "cells": [
  {
   "cell_type": "code",
   "execution_count": 1,
   "id": "c4be3290",
   "metadata": {
    "scrolled": true
   },
   "outputs": [
    {
     "name": "stdout",
     "output_type": "stream",
     "text": [
      "1\n",
      "2\n",
      "3\n",
      "4\n",
      "1500\n",
      "1501\n"
     ]
    }
   ],
   "source": [
    "import PIL\n",
    "from PIL import Image\n",
    "from os import listdir\n",
    "\n",
    "path = r'image net data\\unsplash-research-dataset-lite-latest\\downloaded'\n",
    "fin_path = r'prepared background\\\\'\n",
    "\n",
    "files = [f for f in listdir(path)]\n",
    "i=0\n",
    "for file in files:\n",
    "    #print(file)\n",
    "    with Image.open(path+'\\\\'+file) as image:\n",
    "        width, height = image.size\n",
    "        #print(width, height)\n",
    "        if height < 720 or width < 1280:\n",
    "            if height>width:\n",
    "                image = image.rotate(90)\n",
    "            new_image = Image.new('RGB',(2*width, 2*height), (250,250,250))\n",
    "            new_image.paste(image,(0,0))\n",
    "            new_image.paste(image,(width,0))\n",
    "            new_image.paste(image,(0,height))\n",
    "            new_image.paste(image,(width,height))\n",
    "            new_image = new_image.crop((0, 0, 1280, 720))\n",
    "            new_image.save(\"merged_image.jpg\",\"JPEG\")\n",
    "        if height > 720 and width > 1280:\n",
    "            new_image = Image.new('RGB',(1280, 720), (250,250,250))\n",
    "            new_image = image.crop((0, 0, 1280, 720))\n",
    "            new_image.save(fin_path+file,'JPEG')\n",
    "            \n",
    "    i+=1\n",
    "    print(i)\n",
    "    #if i > 1:break"
   ]
  },
  {
   "cell_type": "code",
   "execution_count": 19,
   "id": "35b072b9",
   "metadata": {},
   "outputs": [],
   "source": [
    "path = r'prepared background\\\\'\n",
    "\n",
    "files = [f for f in listdir(path)]\n",
    "i=0\n",
    "for file in files:\n",
    "    #print(file)\n",
    "    with Image.open(path+'\\\\'+file) as image:\n",
    "        width, height = image.size\n",
    "        if width!= 1920:print('spatna sirka')\n",
    "        if height!=1080:print('spatna vyska')"
   ]
  },
  {
   "cell_type": "code",
   "execution_count": null,
   "id": "802f1805",
   "metadata": {},
   "outputs": [],
   "source": []
  }
 ],
 "metadata": {
  "kernelspec": {
   "display_name": "Python 3 (ipykernel)",
   "language": "python",
   "name": "python3"
  },
  "language_info": {
   "codemirror_mode": {
    "name": "ipython",
    "version": 3
   },
   "file_extension": ".py",
   "mimetype": "text/x-python",
   "name": "python",
   "nbconvert_exporter": "python",
   "pygments_lexer": "ipython3",
   "version": "3.7.11"
  }
 },
 "nbformat": 4,
 "nbformat_minor": 5
}
