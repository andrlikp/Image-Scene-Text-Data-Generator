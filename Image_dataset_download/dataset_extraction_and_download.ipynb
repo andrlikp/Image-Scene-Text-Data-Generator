{
 "cells": [
  {
   "cell_type": "code",
   "execution_count": 2,
   "id": "420cdd87",
   "metadata": {},
   "outputs": [],
   "source": [
    "#změna obrázků na určité rozlišení\n",
    "\n",
    "import numpy as np\n",
    "import pandas as pd\n",
    "import glob\n",
    "\n",
    "path = './'\n",
    "documents = ['photos', 'keywords', 'collections', 'conversions', 'colors']\n",
    "datasets = {}\n",
    "\n",
    "for doc in documents:\n",
    "    files = glob.glob(path + doc + \".tsv*\")\n",
    "\n",
    "    subsets = []\n",
    "    for filename in files:\n",
    "        df = pd.read_csv(filename, sep='\\t', header=0)\n",
    "        subsets.append(df)\n",
    "\n",
    "    datasets[doc] = pd.concat(subsets, axis=0, ignore_index=True)\n"
   ]
  },
  {
   "cell_type": "code",
   "execution_count": 15,
   "id": "d596f653",
   "metadata": {},
   "outputs": [
    {
     "data": {
      "text/plain": [
       "0        XMyPniM9LF0\n",
       "1        rDLBArZUl1c\n",
       "2        cNDGZ2sQ3Bo\n",
       "3        iuZ_D1eoq9k\n",
       "4        BeD3vjQ8SI0\n",
       "            ...     \n",
       "24995    c7OrOMxrurA\n",
       "24996    15IuQ5a0Qwg\n",
       "24997    w8nrcXz8pwk\n",
       "24998    n1jHrRhehUI\n",
       "24999    Ic74ACoaAX0\n",
       "Name: photo_id, Length: 25000, dtype: object"
      ]
     },
     "execution_count": 15,
     "metadata": {},
     "output_type": "execute_result"
    }
   ],
   "source": [
    "datasets['photos']['photo_image_url'][0]\n",
    "datasets['photos']['photo_id']"
   ]
  },
  {
   "cell_type": "code",
   "execution_count": 3,
   "id": "62a3746b",
   "metadata": {},
   "outputs": [
    {
     "name": "stdout",
     "output_type": "stream",
     "text": [
      "saved   1500\n",
      "all saved\n"
     ]
    }
   ],
   "source": [
    "import requests\n",
    "from IPython.display import clear_output\n",
    "\n",
    "i=0\n",
    "    \n",
    "for row in datasets['photos']['photo_image_url']:\n",
    "    #if i>2000: break\n",
    "    #if len(row)<3: continue\n",
    "    #print(row[0].split(',')[0])\n",
    "    if i<1347:\n",
    "        i+=1\n",
    "        continue\n",
    "    image_name = datasets['photos']['photo_id'][i]\n",
    "    img_data = requests.get(row).content\n",
    "    with open('downloaded/'+image_name+'.jpg', 'wb') as handler:\n",
    "        handler.write(img_data)\n",
    "    clear_output()\n",
    "    print('saved', \" \", i)\n",
    "    i+=1\n",
    "    if i>1500:break\n",
    "print('all saved')"
   ]
  },
  {
   "cell_type": "code",
   "execution_count": null,
   "id": "6b4c7e88",
   "metadata": {},
   "outputs": [],
   "source": [
    "import requests\n",
    "from IPython.display import clear_output\n",
    "\n",
    "j=20000\n",
    "    \n",
    "while j <25000:\n",
    "    if j>24999: break\n",
    "    #if len(row)<3: continue\n",
    "    #print(row[0].split(',')[0])\n",
    "    img_url = datasets['photos']['photo_image_url'][j]\n",
    "    image_name = datasets['photos']['photo_id'][j]\n",
    "    img_data = requests.get(row).content\n",
    "    with open('downloaded/'+image_name+'.jpg', 'wb') as handler:\n",
    "        handler.write(img_data)\n",
    "    clear_output()\n",
    "    print('saved', \" \", j)\n",
    "    j+=1\n",
    "print('all saved')"
   ]
  },
  {
   "cell_type": "code",
   "execution_count": null,
   "id": "dc74b66d",
   "metadata": {},
   "outputs": [],
   "source": []
  }
 ],
 "metadata": {
  "kernelspec": {
   "display_name": "Python 3 (ipykernel)",
   "language": "python",
   "name": "python3"
  },
  "language_info": {
   "codemirror_mode": {
    "name": "ipython",
    "version": 3
   },
   "file_extension": ".py",
   "mimetype": "text/x-python",
   "name": "python",
   "nbconvert_exporter": "python",
   "pygments_lexer": "ipython3",
   "version": "3.7.11"
  }
 },
 "nbformat": 4,
 "nbformat_minor": 5
}
