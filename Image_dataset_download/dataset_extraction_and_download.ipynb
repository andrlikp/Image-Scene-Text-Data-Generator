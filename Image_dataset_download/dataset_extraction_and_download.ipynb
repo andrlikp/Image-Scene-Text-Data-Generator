{
 "cells": [
  {
   "cell_type": "code",
   "execution_count": null,
   "id": "62a3746b",
   "metadata": {},
   "outputs": [],
   "source": [
    "import numpy as np\n",
    "import pandas as pd\n",
    "import glob\n",
    "import requests\n",
    "from IPython.display import clear_output\n",
    "from threading import Thread\n",
    "\n",
    "errors = 0\n",
    "\n",
    "def save_img(row,image_name):\n",
    "    global errors\n",
    "    try:\n",
    "        img_data = requests.get(row).content\n",
    "        with open('downloaded/'+image_name+'.jpg', 'wb') as handler:\n",
    "            handler.write(img_data)\n",
    "    except:\n",
    "        errors+=1\n",
    "\n",
    "def main():\n",
    "    \n",
    "    global errors\n",
    "    i=0\n",
    "    path = './'\n",
    "    documents = ['photos', 'keywords', 'collections', 'conversions', 'colors']\n",
    "    datasets = {}\n",
    "\n",
    "    for doc in documents:\n",
    "        files = glob.glob(path + doc + \".tsv*\")\n",
    "\n",
    "        subsets = []\n",
    "        for filename in files:\n",
    "            df = pd.read_csv(filename, sep='\\t', header=0)\n",
    "            subsets.append(df)\n",
    "\n",
    "        datasets[doc] = pd.concat(subsets, axis=0, ignore_index=True)\n",
    "        \n",
    "    for row in datasets['photos']['photo_image_url']:\n",
    "        #if i>2000: break\n",
    "        #if len(row)<3: continue\n",
    "        #print(row[0].split(',')[0])\n",
    "        if i<0: #jen podmínka pro ty co už mám stažené, stačí i=0 když není potřeba\n",
    "            i+=1\n",
    "            continue\n",
    "        image_name = datasets['photos']['photo_id'][i]\n",
    "        Thread(target=save_img, args=(row, image_name)).start()\n",
    "        clear_output()\n",
    "        print('saved', \" \", i)\n",
    "        i+=1\n",
    "        if i>6000+errors:break #zastavovací podmínka\n",
    "    print('all saved')\n",
    "    \n",
    "if __name__ == '__main__':\n",
    "    main()"
   ]
  }
 ],
 "metadata": {
  "kernelspec": {
   "display_name": "Python 3 (ipykernel)",
   "language": "python",
   "name": "python3"
  },
  "language_info": {
   "codemirror_mode": {
    "name": "ipython",
    "version": 3
   },
   "file_extension": ".py",
   "mimetype": "text/x-python",
   "name": "python",
   "nbconvert_exporter": "python",
   "pygments_lexer": "ipython3",
   "version": "3.7.11"
  }
 },
 "nbformat": 4,
 "nbformat_minor": 5
}
