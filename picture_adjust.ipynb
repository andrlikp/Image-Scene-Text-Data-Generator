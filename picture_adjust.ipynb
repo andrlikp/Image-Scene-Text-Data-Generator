{
 "cells": [
  {
   "cell_type": "code",
   "execution_count": 1,
   "id": "c4be3290",
   "metadata": {
    "scrolled": true
   },
   "outputs": [
    {
     "ename": "IndentationError",
     "evalue": "expected an indented block (Temp/ipykernel_25896/1306612302.py, line 23)",
     "output_type": "error",
     "traceback": [
      "\u001b[1;36m  File \u001b[1;32m\"C:\\Users\\Pavel\\AppData\\Local\\Temp/ipykernel_25896/1306612302.py\"\u001b[1;36m, line \u001b[1;32m23\u001b[0m\n\u001b[1;33m    Thread(target=process_image, args=(i)).start()\u001b[0m\n\u001b[1;37m    ^\u001b[0m\n\u001b[1;31mIndentationError\u001b[0m\u001b[1;31m:\u001b[0m expected an indented block\n"
     ]
    }
   ],
   "source": [
    "import PIL\n",
    "from PIL import Image\n",
    "from os import listdir\n",
    "from threading import Thread\n",
    "import threading\n",
    "import time\n",
    "\n",
    "\n",
    "\n",
    "def main():\n",
    "    i=0\n",
    "    path = r'image net data\\unsplash-research-dataset-lite-latest\\downloaded'\n",
    "    fin_path = r'prepared background\\\\'\n",
    "\n",
    "    files = [f for f in listdir(path)]\n",
    "\n",
    "    while i<16000:\n",
    "        for file in files:\n",
    "            name = path+'\\\\'+file\n",
    "            while threading.active_count() >=30:\n",
    "                time.sleep(10)\n",
    "            with Image.open(name) as image:\n",
    "                width, height = image.size\n",
    "                if height > 2*720 and width > 2*1280:\n",
    "                    Thread(target=process_image, args=(i,name,fin_path)).start()\n",
    "                    i+=4\n",
    "            if i>=16000:\n",
    "                break\n",
    "        \n",
    "def process_image(i,name,fin_path):\n",
    "    with Image.open(name) as image:\n",
    "        #1st image\n",
    "        new_image = image.crop((0, 0, 1280, 720))\n",
    "        new_image.save(fin_path+str(i)+'.jpg','JPEG')\n",
    "        #2nd image\n",
    "        new_image = image.crop((1280, 0, 2560, 720))\n",
    "        new_image.save(fin_path+str(i+1)+'.jpg','JPEG')\n",
    "        #3rd image\n",
    "        new_image = image.crop((0, 720, 1280, 1440))\n",
    "        new_image.save(fin_path+str(i+2)+'.jpg','JPEG')\n",
    "        #4th image\n",
    "        new_image = image.crop((1280, 720, 2560, 1440))\n",
    "        new_image.save(fin_path+str(i+3)+'.jpg','JPEG')\n",
    "    print(i+4)\n",
    "    \n",
    "if __name__ == '__main__':\n",
    "    main()"
   ]
  }
 ],
 "metadata": {
  "kernelspec": {
   "display_name": "Python 3 (ipykernel)",
   "language": "python",
   "name": "python3"
  },
  "language_info": {
   "codemirror_mode": {
    "name": "ipython",
    "version": 3
   },
   "file_extension": ".py",
   "mimetype": "text/x-python",
   "name": "python",
   "nbconvert_exporter": "python",
   "pygments_lexer": "ipython3",
   "version": "3.7.11"
  }
 },
 "nbformat": 4,
 "nbformat_minor": 5
}
